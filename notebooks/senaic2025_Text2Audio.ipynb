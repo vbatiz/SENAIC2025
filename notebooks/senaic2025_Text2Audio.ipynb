{
  "cells": [
    {
      "cell_type": "markdown",
      "metadata": {
        "id": "nSxhUfusdUrL"
      },
      "source": [
        "# Generación de audio\n",
        "\n",
        "**Investigadores**: <br>\n",
        "  Dr. Ramón Zatarain Cabada<br>\n",
        "  Dra. María Lucía Barrón Estrada<br>\n",
        "  Dr. Víctor Manuel Bátiz Beltrán\n",
        "\n",
        "Puedes revisar la lista de lenguajes y acentos soportados en: https://gtts.readthedocs.io/en/latest/module.html#localized-accents"
      ]
    },
    {
      "cell_type": "code",
      "execution_count": null,
      "metadata": {
        "id": "thqu-IqpdOMh"
      },
      "outputs": [],
      "source": [
        "!pip install gTTs"
      ]
    },
    {
      "cell_type": "code",
      "execution_count": null,
      "metadata": {
        "id": "Fa4ds_tDdnlL"
      },
      "outputs": [],
      "source": [
        "from gtts import gTTS\n",
        "from IPython.display import Audio"
      ]
    },
    {
      "cell_type": "code",
      "execution_count": null,
      "metadata": {
        "id": "eC5f-eb0d8ir"
      },
      "outputs": [],
      "source": [
        "def text2speech(texto, lang, accent, nombre_archivo = \"audio.mp3\"):\n",
        "  tts = gTTS(texto, lang=lang, tld = accent)\n",
        "  tts.save(nombre_archivo)"
      ]
    },
    {
      "cell_type": "code",
      "execution_count": null,
      "metadata": {
        "colab": {
          "base_uri": "https://localhost:8080/",
          "height": 75
        },
        "id": "bUP-_kU1eYdt",
        "outputId": "170f76be-59d8-4b33-d60b-23e9f207f49d"
      },
      "outputs": [],
      "source": [
        "text2speech(\"Hoy es un gran día\",\"es\", \"com.mx\")\n",
        "Audio(\"audio.mp3\", autoplay=True)"
      ]
    },
    {
      "cell_type": "code",
      "execution_count": null,
      "metadata": {
        "colab": {
          "base_uri": "https://localhost:8080/",
          "height": 75
        },
        "id": "LjUqfFNUe04b",
        "outputId": "dda5b746-3b0b-49af-b172-6a42b5d9a766"
      },
      "outputs": [],
      "source": [
        "text2speech(\"Today I will go to the movies\",\"en\", \"com.au\")\n",
        "Audio(\"audio.mp3\", autoplay=True)"
      ]
    },
    {
      "cell_type": "code",
      "execution_count": null,
      "metadata": {
        "colab": {
          "base_uri": "https://localhost:8080/",
          "height": 75
        },
        "id": "2f1CiQy3fITs",
        "outputId": "68852d90-10d4-42df-d383-7b5a23f9e11f"
      },
      "outputs": [],
      "source": [
        "text2speech(\"Today I will go to the movies\",\"en\", \"co.in\")\n",
        "Audio(\"audio.mp3\", autoplay=True)"
      ]
    },
    {
      "cell_type": "code",
      "execution_count": null,
      "metadata": {
        "colab": {
          "base_uri": "https://localhost:8080/",
          "height": 75
        },
        "id": "mB9sbYV2fZEM",
        "outputId": "7d9b90d5-25da-4cf7-ced2-bced464205b6"
      },
      "outputs": [],
      "source": [
        "text2speech(\"Je suis mexicain\",\"fr\", \"fr\")\n",
        "Audio(\"audio.mp3\", autoplay=True)"
      ]
    }
  ],
  "metadata": {
    "colab": {
      "provenance": []
    },
    "kernelspec": {
      "display_name": "Python 3",
      "name": "python3"
    },
    "language_info": {
      "name": "python"
    }
  },
  "nbformat": 4,
  "nbformat_minor": 0
}
