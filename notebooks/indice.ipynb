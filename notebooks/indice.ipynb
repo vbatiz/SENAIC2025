{
 "cells": [
  {
   "cell_type": "markdown",
   "metadata": {},
   "source": [
    "## IA Generativa Aplicada a la Computación Afectiva\n",
    "\n",
    "![Python](https://www.python.org/static/img/python-logo.png)"
   ]
  },
  {
   "cell_type": "markdown",
   "metadata": {},
   "source": [
    "## Índice\n",
    "\n",
    "### IA Generativa Aplicada a la Computación Afectiva\n",
    "\n",
    "**Cuaderno 1**\n",
    "\n",
    "[Herramientas generales](senaic2025_Tecnicas.ipynb)\n",
    "\n",
    "**Cuaderno 2**\n",
    "\n",
    "[Ejemplo de análisis de sentimientos utilizando corpus SentiText](senaic2025_SentiText.ipynb)\n",
    "\n",
    "**Cuaderno 3**\n",
    "\n",
    "[Ejemplo de clasificación de textos utilizando corpus EduSERE](senaic2025_EduSERE.ipynb)\n",
    "\n",
    "**Cuaderno 4**\n",
    "\n",
    "[Ejemplo de clasificación de personalidad utilizando corpus PersonText](senaic2025_PersonText.ipynb)\n",
    "\n",
    "**Cuaderno 5**\n",
    "\n",
    "[Ejemplo de Question answering](atca_02.ipynb)\n",
    "\n",
    "**Cuaderno 6\n",
    "\n",
    "[Ejemplo de conversión de audio a texto](senaic2025_Audio2Text.ipynb)"
   ]
  }
 ],
 "metadata": {
  "language_info": {
   "name": "python"
  }
 },
 "nbformat": 4,
 "nbformat_minor": 2
}
