{
 "cells": [
  {
   "cell_type": "markdown",
   "metadata": {},
   "source": [
    "## Aplicación de Transformers en Computación Afectiva\n",
    "\n",
    "![Python](https://www.python.org/static/img/python-logo.png)"
   ]
  },
  {
   "cell_type": "markdown",
   "metadata": {},
   "source": [
    "## Índice\n",
    "\n",
    "### Aplicación de Transformers en Computación Afectiva\n",
    "\n",
    "**Cuaderno 1**\n",
    "\n",
    "[Herramientas generales](senaic2024_Tecnicas.ipynb)\n",
    "\n",
    "**Cuaderno 2**\n",
    "\n",
    "[Ejemplo de análisis de sentimientos utilizando corpus SentiText](senaic2024_SentiText.ipynb)\n",
    "\n",
    "**Cuaderno 3**\n",
    "\n",
    "[Ejemplo de clasificación de textos utilizando corpus EduSERE](senaic2024_EduSERE.ipynb)\n",
    "\n",
    "**Cuaderno 4**\n",
    "\n",
    "[Ejemplo de clasificación de personalidad utilizando corpus PersonText](senaic2024_PersonText.ipynb)\n",
    "\n",
    "**Cuaderno 5**\n",
    "\n",
    "[Ejemplo de Question answering](atca_02.ipynb)"
   ]
  }
 ],
 "metadata": {
  "language_info": {
   "name": "python"
  }
 },
 "nbformat": 4,
 "nbformat_minor": 2
}
