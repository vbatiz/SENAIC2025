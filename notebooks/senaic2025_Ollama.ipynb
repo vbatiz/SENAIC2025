{
 "cells": [
  {
   "cell_type": "markdown",
   "id": "8a6ef0a2",
   "metadata": {},
   "source": [
    "# Ollama"
   ]
  },
  {
   "cell_type": "markdown",
   "id": "31fccbad",
   "metadata": {},
   "source": [
    "Ollama es una herramienta de código abierto que ejecuta grandes modelos lingüísticos (LLM) directamente en una máquina local. Esto la hace especialmente atractiva para desarrolladores de IA, investigadores y empresas preocupadas por el control y la privacidad de los datos."
   ]
  },
  {
   "cell_type": "markdown",
   "id": "16e2af1b",
   "metadata": {},
   "source": [
    "Descargamos la librería para usarlo en python"
   ]
  },
  {
   "cell_type": "code",
   "execution_count": 110,
   "id": "609a6540",
   "metadata": {},
   "outputs": [
    {
     "name": "stdout",
     "output_type": "stream",
     "text": [
      "Requirement already satisfied: ollama in ./.conda/lib/python3.10/site-packages (0.6.0)\n",
      "Requirement already satisfied: httpx>=0.27 in ./.conda/lib/python3.10/site-packages (from ollama) (0.28.1)\n",
      "Requirement already satisfied: pydantic>=2.9 in ./.conda/lib/python3.10/site-packages (from ollama) (2.11.9)\n",
      "Requirement already satisfied: anyio in ./.conda/lib/python3.10/site-packages (from httpx>=0.27->ollama) (4.11.0)\n",
      "Requirement already satisfied: certifi in ./.conda/lib/python3.10/site-packages (from httpx>=0.27->ollama) (2025.8.3)\n",
      "Requirement already satisfied: httpcore==1.* in ./.conda/lib/python3.10/site-packages (from httpx>=0.27->ollama) (1.0.9)\n",
      "Requirement already satisfied: idna in ./.conda/lib/python3.10/site-packages (from httpx>=0.27->ollama) (3.10)\n",
      "Requirement already satisfied: h11>=0.16 in ./.conda/lib/python3.10/site-packages (from httpcore==1.*->httpx>=0.27->ollama) (0.16.0)\n",
      "Requirement already satisfied: annotated-types>=0.6.0 in ./.conda/lib/python3.10/site-packages (from pydantic>=2.9->ollama) (0.7.0)\n",
      "Requirement already satisfied: pydantic-core==2.33.2 in ./.conda/lib/python3.10/site-packages (from pydantic>=2.9->ollama) (2.33.2)\n",
      "Requirement already satisfied: typing-extensions>=4.12.2 in ./.conda/lib/python3.10/site-packages (from pydantic>=2.9->ollama) (4.15.0)\n",
      "Requirement already satisfied: typing-inspection>=0.4.0 in ./.conda/lib/python3.10/site-packages (from pydantic>=2.9->ollama) (0.4.2)\n",
      "Requirement already satisfied: exceptiongroup>=1.0.2 in ./.conda/lib/python3.10/site-packages (from anyio->httpx>=0.27->ollama) (1.3.0)\n",
      "Requirement already satisfied: sniffio>=1.1 in ./.conda/lib/python3.10/site-packages (from anyio->httpx>=0.27->ollama) (1.3.1)\n",
      "Note: you may need to restart the kernel to use updated packages.\n"
     ]
    }
   ],
   "source": [
    "pip install ollama"
   ]
  },
  {
   "cell_type": "code",
   "execution_count": 111,
   "id": "c2d36a50",
   "metadata": {},
   "outputs": [],
   "source": [
    "import ollama"
   ]
  },
  {
   "cell_type": "markdown",
   "id": "a328cb13",
   "metadata": {},
   "source": [
    "## Descargar un modelo (pull)"
   ]
  },
  {
   "cell_type": "code",
   "execution_count": null,
   "id": "73022032",
   "metadata": {},
   "outputs": [
    {
     "name": "stdout",
     "output_type": "stream",
     "text": [
      "Modelo gemma3:270m en proceso de descarga...\n",
      "status='pulling manifest' completed=None total=None digest=None\n",
      "status='pulling 735af2139dc6' completed=291545472 total=291545472 digest='sha256:735af2139dc652bf01112746474883d79a52fa1c19038265d363e3d42556f7a2'\n",
      "status='pulling 4b19ac7dd2fb' completed=476 total=476 digest='sha256:4b19ac7dd2fb1ab2f2818b73454c5a9128ca39875a8fcf686a6b1c36100a0d68'\n",
      "status='pulling 3e2c24001f9e' completed=8431 total=8431 digest='sha256:3e2c24001f9ef57bf7ec959a3658fbb49cdad113cdf394c264da9d16f9bdd132'\n",
      "status='pulling 339e884a40f6' completed=61 total=61 digest='sha256:339e884a40f6708bc761d367f0c08e448d5bb6f16b3961c340e44e0e4835a004'\n",
      "status='pulling 74156d92caf6' completed=490 total=490 digest='sha256:74156d92caf6d17ac05e9ad7b3eab0a2123f6bce4150f715ebd92e0c3af6cad1'\n",
      "status='verifying sha256 digest' completed=None total=None digest=None\n",
      "status='writing manifest' completed=None total=None digest=None\n",
      "status='success' completed=None total=None digest=None\n"
     ]
    }
   ],
   "source": [
    "\n",
    "# Descargar un modelo (pull), por ejemplo uno de gemma3:\n",
    "# https://ollama.com/library/gemma3\n",
    "\n",
    "modelo_en_uso = \"gemma3:270m\" #Tiene 270 millones de parámetros\n",
    "\n",
    "response_generator  = ollama.pull(modelo_en_uso, stream=True)\n",
    "print(f\"Modelo {modelo_en_uso} en proceso de descarga...\")\n",
    "for chunk in response_generator:\n",
    "  print(chunk)"
   ]
  },
  {
   "cell_type": "markdown",
   "id": "7fd45e12",
   "metadata": {},
   "source": [
    "## Ver todos los modelos existentes (List)"
   ]
  },
  {
   "cell_type": "code",
   "execution_count": null,
   "id": "3ad68eed",
   "metadata": {},
   "outputs": [
    {
     "name": "stdout",
     "output_type": "stream",
     "text": [
      "gemma3:270m\n",
      "gemma3:1b\n"
     ]
    }
   ],
   "source": [
    "list_models = ollama.list()\n",
    "for model_data_info in list_models.models:\n",
    "    print(model_data_info.model)"
   ]
  },
  {
   "cell_type": "markdown",
   "id": "4e7d97e8",
   "metadata": {},
   "source": [
    "## Tener un chat con la LLM (Chat)"
   ]
  },
  {
   "cell_type": "markdown",
   "id": "e1638b4a",
   "metadata": {},
   "source": [
    "### Respuesta directa "
   ]
  },
  {
   "cell_type": "code",
   "execution_count": 33,
   "id": "ffec84e1",
   "metadata": {},
   "outputs": [
    {
     "name": "stdout",
     "output_type": "stream",
     "text": [
      "La computación afectiva tiene una amplia gama de aplicaciones, que se pueden clasificar en varias categorías:\n",
      "\n",
      "*   **Interfaces de usuario (UI):** Estas aplicaciones permiten a los usuarios interactuar con la tecnología de forma más natural y intuitiva, lo que puede mejorar la experiencia del usuario. Ejemplos incluyen aplicaciones de chatbots, aplicaciones de gestión de tareas, aplicaciones de navegación web y aplicaciones de productividad.\n",
      "\n",
      "*   **Inteligencia Artificial (IA) y Aprendizaje Automático (Machine Learning):** La computación afectiva se utiliza ampliamente en el desarrollo de IA y ML, especialmente en la creación de algoritmos de reconocimiento de patrones, procesamiento del lenguaje natural (PNL), y aprendizaje automático para la predicción de datos, la generación de texto, la traducción automática y otras tareas.\n",
      "\n",
      "*   **Reconocimiento Facial:** La computación afectiva se utiliza para mejorar la precisión y la eficiencia del reconocimiento facial, lo que permite a los usuarios identificar personas de manera más precisa.\n",
      "\n",
      "*   **Sistemas de Recomendación:** La computación afectiva puede ser utilizada para crear sistemas de recomendación que sugieran productos, películas, música o contenido que los usuarios probablemente gustarán.\n",
      "\n",
      "*   **Sistemas de Control y Automatización:** La computación afectiva se utiliza para automatizar tareas repetitivas, como la gestión de inventario, la programación de tareas y la generación de informes.\n",
      "\n",
      "*   **Redes Sociales y Comunicación:** La computación afectiva se utiliza para mejorar la interacción y la comunicación en redes sociales, permitiendo a los usuarios compartir información, expresar opiniones y participar en debates.\n",
      "\n",
      "*   **Medicina:** La computación afectiva se está investigando para mejorar la comprensión del dolor, la analgesia y la terapia ocupacional.\n",
      "\n",
      "*   **Educación:** La computación afectiva se está utilizando para personalizar la educación, proporcionar retroalimentación y mejorar la enseñanza.\n",
      "\n",
      "En resumen, la computación afectiva es un campo de investigación activo que busca desarrollar sistemas y dispositivos que puedan mejorar la experiencia del usuario, interactuar de manera más natural y realizar tareas más complejas de manera más intuitiva.\n"
     ]
    }
   ],
   "source": [
    "from ollama import chat\n",
    "\n",
    "mensajes = [\n",
    "    {'role': 'user', 'content': '¿Que es la computación afectiva?'},\n",
    "    {'role': 'assistant', 'content': 'La computación afectiva es una rama de la inteligencia artificial que se enfoca en el desarrollo de sistemas y dispositivos capaces de reconocer, interpretar, procesar y simular las emociones humanas. El objetivo principal de la computación afectiva es mejorar la interacción entre humanos y máquinas, haciendo que las tecnologías sean más intuitivas y empáticas.'},\n",
    "    {'role': 'user', 'content': '¿Cuáles son sus aplicaciones?'},\n",
    "]\n",
    "\n",
    "response = chat(\n",
    "    model=modelo_en_uso,\n",
    "    messages=mensajes,\n",
    "    stream=False,\n",
    ")\n",
    "\n",
    "print(response.message.content)"
   ]
  },
  {
   "cell_type": "markdown",
   "id": "7e82464a",
   "metadata": {},
   "source": [
    "### Uso de chunks"
   ]
  },
  {
   "cell_type": "code",
   "execution_count": 34,
   "id": "b6872597",
   "metadata": {},
   "outputs": [
    {
     "name": "stdout",
     "output_type": "stream",
     "text": [
      "La computación afectiva tiene una amplia gama de aplicaciones, que se pueden clasificar en varias categorías:\n",
      "\n",
      "*   **Mejora de la experiencia del usuario (UX):**\n",
      "    *   **Interfaz de usuario intuitiva:** Proporcionar una interfaz de usuario fácil de usar y agradable, que permita a los usuarios entender y interactuar con las aplicaciones de manera más eficiente.\n",
      "    *   **Aumento de la satisfacción del usuario:** Mejorar la satisfacción del usuario al ofrecer una experiencia más personalizada y satisfactoria.\n",
      "    *   **Optimización de la eficiencia:** Reducir la carga de trabajo de los usuarios, ahorrando tiempo y energía.\n",
      "\n",
      "*   **Aumento de la productividad:**\n",
      "    *   **Automatización de tareas:** Automatizar tareas repetitivas y manuales, liberando a los usuarios para que se concentren en actividades más creativas y estratégicas.\n",
      "    *   **Mejora del rendimiento:** Optimizar el rendimiento de los sistemas, como el procesamiento del lenguaje natural (PNL) y la gestión de datos.\n",
      "\n",
      "*   **Mejora de la salud y el bienestar:**\n",
      "    *   **Diagnóstico médico:** Analizar datos de salud para identificar patrones y anomalías que puedan indicar problemas de salud.\n",
      "    *   **Mejora de la salud mental:** Ayudar a los usuarios a manejar el estrés, la ansiedad y la depresión.\n",
      "    *   **Mejora de la calidad de vida:** Mejorar la calidad de vida de los usuarios, ofreciendo herramientas y servicios que les ayuden a mejorar su bienestar emocional y físico.\n",
      "\n",
      "*   **Asistencia y soporte:**\n",
      "    *   **Asistencia virtual:** Proporcionar asistencia virtual a los usuarios, como chatbots y asistentes virtuales, para resolver problemas y proporcionar información.\n",
      "    *   **Análisis de sentimientos:** Analizar los sentimientos de los usuarios para identificar áreas de mejora en la experiencia de usuario.\n",
      "\n",
      "*   **Reconocimiento de objetos y patrones:**\n",
      "    *   **Reconocimiento de objetos:**  Identificar y reconocer objetos en imágenes, videos y texto.\n",
      "    *   **Reconocimiento de patrones:**  Identificar patrones en datos, como patrones de color, tipo de letra o datos de ubicación.\n",
      "\n",
      "En resumen, la computación afectiva busca crear sistemas y dispositivos que sean más intuitivos, eficientes y empáticos, lo que los hace ideales para una amplia gama de aplicaciones."
     ]
    }
   ],
   "source": [
    "from ollama import chat\n",
    "\n",
    "mensajes = [\n",
    "    {'role': 'user', 'content': '¿Que es la computación afectiva?'},\n",
    "    {'role': 'assistant', 'content': 'La computación afectiva es una rama de la inteligencia artificial que se enfoca en el desarrollo de sistemas y dispositivos capaces de reconocer, interpretar, procesar y simular las emociones humanas. El objetivo principal de la computación afectiva es mejorar la interacción entre humanos y máquinas, haciendo que las tecnologías sean más intuitivas y empáticas.'},\n",
    "    {'role': 'user', 'content': '¿Cuáles son sus aplicaciones?'},\n",
    "]\n",
    "\n",
    "stream = chat(\n",
    "    model=modelo_en_uso,\n",
    "    messages=mensajes,\n",
    "    stream=True,\n",
    ")\n",
    "\n",
    "for chunk in stream:\n",
    "  print(chunk['message']['content'], end='', flush=True)"
   ]
  },
  {
   "cell_type": "markdown",
   "id": "753509c9",
   "metadata": {},
   "source": [
    "## Generar texto (Generate)"
   ]
  },
  {
   "cell_type": "markdown",
   "id": "800bf245",
   "metadata": {},
   "source": [
    "### Respuesta directa"
   ]
  },
  {
   "cell_type": "code",
   "execution_count": 115,
   "id": "b701363f",
   "metadata": {},
   "outputs": [
    {
     "name": "stdout",
     "output_type": "stream",
     "text": [
      "La computación afectiva es el proceso de **manipulación y procesamiento de datos sensoriales** para crear, entender y utilizar información.  En esencia, es la capacidad de **comprender y extraer significado de los datos** que se transmiten a través de la comunicación sensorial.\n",
      "\n",
      "Aquí te desgloso los aspectos clave de la computación afectiva:\n",
      "\n",
      "* **Dispositivos de procesamiento sensorial:**  Estos dispositivos son como \"cámaras de comercio\" de la mente.  Son máquinas que pueden analizar y procesar la información sensorial, como la luz, el sonido, la temperatura, la presión, etc.\n",
      "* **Aprendizaje automático:**  La computación afectiva se utiliza para desarrollar modelos de aprendizaje automático, que permiten a las máquinas aprender de datos y realizar tareas complejas.  En este sentido, se utilizan algoritmos de aprendizaje profundo para procesar datos sensoriales y generar nuevas salidas.\n",
      "* **Interpretación de datos:**  La computación afectiva permite a las máquinas analizar y interpretar los datos sensoriales.  Esto implica la capacidad de identificar patrones, relaciones y significados ocultos en los datos.\n",
      "* **Generación de datos:**  La computación afectiva es fundamental para la creación de datos de alta calidad.  Esto implica la capacidad de generar datos que sean relevantes, precisos y representativos de los datos reales.\n",
      "- **Datos sensoriales:**  La computación afectiva implica la capacidad de procesar y analizar datos sensoriales.\n",
      "- **Tareas de procesamiento:**  La computación afectiva se utiliza para realizar tareas de procesamiento de datos, como la segmentación de datos, la clasificación de datos, la detección de anomalías y la generación de nuevas salidas.\n",
      "* **Modelado de datos:**  La computación afectiva permite a las máquinas modelar y representar los datos sensoriales, lo que facilita su uso en aplicaciones de aprendizaje automático.\n",
      "\n",
      "**En resumen, la computación afectiva es la capacidad de una máquina para:**\n",
      "\n",
      "* **Comprender y extraer significado de los datos sensoriales.**\n",
      "* **Generar nuevos datos de alta calidad.**\n",
      "* **Aplicar algoritmos de aprendizaje automático.**\n",
      "* **Realizar tareas de procesamiento de datos.**\n",
      "\n",
      "\n"
     ]
    }
   ],
   "source": [
    "prompt = '¿Que es la computación afectiva?'\n",
    "model_response = ollama.generate(\n",
    "        model=modelo_en_uso,\n",
    "        prompt=prompt,\n",
    "        stream=False\n",
    "    )\n",
    "#Resultado completo\n",
    "print(model_response.response)"
   ]
  },
  {
   "cell_type": "markdown",
   "id": "fa917626",
   "metadata": {},
   "source": [
    "### Uso de chunks"
   ]
  },
  {
   "cell_type": "code",
   "execution_count": null,
   "id": "a9f43e00",
   "metadata": {},
   "outputs": [
    {
     "name": "stdout",
     "output_type": "stream",
     "text": [
      "The sky is blue because of a phenomenon called **Rayleigh Scattering**. Here's a breakdown of why:\n",
      "\n",
      "*   **Sunlight:** Sunlight is actually composed of all the colors of the rainbow.\n",
      "*   **Entering the Atmosphere:** When sunlight enters the Earth's atmosphere, it collides with tiny air molecules (mostly nitrogen and oxygen).\n",
      "*   **Wavelengths of Light:** The colors of light are not perfectly monochromatic (i.e., each color has a distinct wavelength).\n",
      "*   **Scattering:** As the light interacts with these air molecules, it's scattered in all directions. This is why the blue and violet light are scattered more than other colors.\n",
      "*   **Blue Light:** Blue light has a shorter wavelength than other colors. Therefore, it is scattered much more strongly than other colors.\n",
      "*   **Why Blue?** The blue light is absorbed by the air molecules in the atmosphere, causing them to scatter away. This scattering is what makes the sky appear blue.\n",
      "\n"
     ]
    }
   ],
   "source": [
    "prompt = '¿Que es la computación afectiva?'\n",
    "model_response = ollama.generate(\n",
    "        model=modelo_en_uso,\n",
    "        prompt=prompt,\n",
    "        stream=True\n",
    "    )\n",
    "\n",
    "for chunk in model_response:\n",
    "  print(chunk['response'], end='', flush=True)\n",
    "\n",
    "\n"
   ]
  },
  {
   "cell_type": "markdown",
   "id": "0d0bf609",
   "metadata": {},
   "source": [
    "### Uso de rúbrica para detectar el sentimiento positivo o negativo de una oración "
   ]
  },
  {
   "cell_type": "code",
   "execution_count": null,
   "id": "58a06659",
   "metadata": {},
   "outputs": [
    {
     "name": "stdout",
     "output_type": "stream",
     "text": [
      "Respuesta:\n",
      "{\n",
      "  \"sentimiento\": \"negativo\"\n",
      "}\n"
     ]
    }
   ],
   "source": [
    "import ollama\n",
    "import json\n",
    "\n",
    "# Este es el esquema que quieres que la respuesta siga.\n",
    "# Lo definimos como un diccionario de Python.\n",
    "schema_formato = {\n",
    "  \"type\": \"object\",\n",
    "  \"properties\": {\n",
    "    \"sentimiento\": {\n",
    "      \"type\": \"string\",\n",
    "      \"enum\": [\"positivo\", \"negativo\"]\n",
    "    }\n",
    "  },\n",
    "  \"required\": [\"sentimiento\"]\n",
    "}\n",
    "# Respuesta obtenida:\n",
    "## {\"sentimiento\": \"negativo\"}\n",
    "\n",
    "prompt_usado = \"No me gusta como está el clima hoy. \"\n",
    "\n",
    "model_response = ollama.generate(\n",
    "    model=modelo_en_uso, \n",
    "    prompt=prompt_usado,\n",
    "    stream=False,\n",
    "    format=schema_formato,\n",
    "    options={\"seed\": 1}  # Opcional: para reproducibilidad\n",
    ")\n",
    "\n",
    "# La respuesta ya vendrá en formato JSON validado por el esquema\n",
    "response_text = model_response['response']\n",
    "print(\"Respuesta:\")\n",
    "print(json.dumps(json.loads(response_text), indent=2))\n",
    "\n"
   ]
  },
  {
   "cell_type": "markdown",
   "id": "8faa5b6b",
   "metadata": {},
   "source": [
    "### Creación de cursos generados con IA"
   ]
  },
  {
   "cell_type": "markdown",
   "id": "28cf65a8",
   "metadata": {},
   "source": [
    "Rubrica y prompt con la inyección de modulos, número de subtemas, nombre del curso y nivel académico para obtener rúbrica de respuesta del modelo y el prompt a usar"
   ]
  },
  {
   "cell_type": "code",
   "execution_count": 106,
   "id": "0da6cedd",
   "metadata": {},
   "outputs": [],
   "source": [
    "def rubrica_y_prompt_temas_generados_IA(numero_modules, numero_subtopics, nombre_curso, nivel_academico):\n",
    "  rubrica = {\n",
    "    \"type\": \"object\",\n",
    "    \"properties\": {\n",
    "      \"courseTitle\": {\n",
    "        \"type\": \"string\"\n",
    "      },\n",
    "      \"level\": {\n",
    "        \"type\": \"string\"\n",
    "      },\n",
    "      \"modules\": {\n",
    "        \"type\": \"array\",\n",
    "        \"minItems\": numero_modules,\n",
    "        \"maxItems\": numero_modules,\n",
    "        \"items\": {\n",
    "          \"type\": \"object\",\n",
    "          \"properties\": {\n",
    "            \"index\": {\n",
    "              \"type\": \"integer\"\n",
    "            },\n",
    "            \"title\": {\n",
    "              \"type\": \"string\"\n",
    "            },\n",
    "            \"description\": {\n",
    "              \"type\": \"string\"\n",
    "            },\n",
    "            \"subtopics\": {\n",
    "              \"type\": \"array\",\n",
    "              \"minItems\": numero_subtopics,\n",
    "              \"maxItems\": numero_subtopics,\n",
    "              \"items\": {\n",
    "                \"type\": \"object\",\n",
    "                \"properties\": {\n",
    "                  \"index\": {\n",
    "                    \"type\": \"integer\"\n",
    "                  },\n",
    "                  \"title\": {\n",
    "                    \"type\": \"string\"\n",
    "                  },\n",
    "                  \"description\": {\n",
    "                    \"type\": \"string\"\n",
    "                  }\n",
    "                },\n",
    "                \"required\": [\n",
    "                  \"index\",\n",
    "                  \"title\",\n",
    "                  \"description\"\n",
    "                ]\n",
    "              }\n",
    "            }\n",
    "          },\n",
    "          \"required\": [\n",
    "            \"index\",\n",
    "            \"title\",\n",
    "            \"description\",\n",
    "            \"subtopics\"\n",
    "          ]\n",
    "        }\n",
    "      }\n",
    "    },\n",
    "    \"required\": [\n",
    "      \"courseTitle\",\n",
    "      \"level\",\n",
    "      \"modules\"\n",
    "    ]\n",
    "  }\n",
    "\n",
    "    \n",
    "    #prompt = f\"\"\"Crea {nombre_curso} capítulos de un tema escolar de -{nombre_curso}- \n",
    "    #para {nivel_academico}, donde cada capitulo tenga {numero_subtopics} \n",
    "    #subtemas para abordar el curso, con su respectiva description e index.\n",
    "    #Realiza el contenido en idioma Español. Respond using JSON\"\"\"\n",
    "  prompt = f\"\"\"Crea un curso del tema escolar -{nombre_curso}- \n",
    "    para el nivel academico {nivel_academico}, donde se tengan {numero_modules} capitulos,\n",
    "    donde cada capitulo tengan {numero_subtopics} \n",
    "    subtema(s) para abordar el curso, con su respectiva description e index.\n",
    "    Realiza el contenido en idioma Español. Respond using JSON\"\"\"\n",
    "  \n",
    "  return rubrica, prompt"
   ]
  },
  {
   "cell_type": "markdown",
   "id": "45351799",
   "metadata": {},
   "source": [
    "Tema, nivel academico y numero de tema y subtemas."
   ]
  },
  {
   "cell_type": "code",
   "execution_count": 113,
   "id": "314caf2b",
   "metadata": {},
   "outputs": [],
   "source": [
    "import ollama\n",
    "import json\n",
    "\n",
    "# Este es el esquema que quieres que la respuesta siga.\n",
    "# Lo definimos como un diccionario de Python.\n",
    "tema_materia = \"Calculo Diferencial\"\n",
    "nivel_academico = \"Bachillerato\"\n",
    "numero_modulos = 3\n",
    "numero_subtemas = 2\n",
    "schema_formato, prompt_usado = rubrica_y_prompt_temas_generados_IA(numero_modulos, numero_subtemas, tema_materia, nivel_academico)\n",
    "\n",
    "\n",
    "model_response = ollama.generate(\n",
    "    model=modelo_en_uso, \n",
    "    prompt=prompt_usado,\n",
    "    stream=False,\n",
    "    format=schema_formato,\n",
    "    options={\"seed\": 1}  # Opcional: para reproducibilidad\n",
    ")\n"
   ]
  },
  {
   "cell_type": "markdown",
   "id": "40c02406",
   "metadata": {},
   "source": [
    "Respuesta de la IA:"
   ]
  },
  {
   "cell_type": "code",
   "execution_count": 114,
   "id": "ad079e8c",
   "metadata": {},
   "outputs": [
    {
     "name": "stdout",
     "output_type": "stream",
     "text": [
      "Respuesta:\n",
      "{\n",
      "  \"courseTitle\": \"Calculo Diferencial\",\n",
      "  \"level\": \"Bachillerato\",\n",
      "  \"modules\": [\n",
      "    {\n",
      "      \"index\": 1,\n",
      "      \"title\": \"Introducción al Cálculo Diferencial\",\n",
      "      \"description\": \"Explora las diferentes formas de cálculo diferencial, incluyendo la sustitución, la integración, la diferenciación y la diferenciación continua.  Se abordan las propiedades fundamentales de los diferenciales y sus aplicaciones en diversos campos.\",\n",
      "      \"subtopics\": [\n",
      "        {\n",
      "          \"index\": 1,\n",
      "          \"title\": \"Sustitución\",\n",
      "          \"description\": \"Explicación de la sustitución, su importancia en el cálculo diferencial, y cómo se utiliza en la diferenciación y la integración.  Se examinan las diferentes formas de sustitución y sus propiedades.\"\n",
      "        },\n",
      "        {\n",
      "          \"index\": 2,\n",
      "          \"title\": \"Integración\",\n",
      "          \"description\": \"Explicación de la integración, su importancia en el cálculo diferencial, y cómo se utiliza en la diferenciación y la integración. Se examinan las diferentes formas de integración y sus propiedades.\"\n",
      "        }\n",
      "      ]\n",
      "    },\n",
      "    {\n",
      "      \"index\": 2,\n",
      "      \"title\": \"Discriminación\",\n",
      "      \"description\": \"Se explora la discriminación, su importancia en el cálculo diferencial, y cómo se utiliza en la diferenciación y la integración.  Se examinan las diferentes formas de discriminación y sus propiedades.\",\n",
      "      \"subtopics\": [\n",
      "        {\n",
      "          \"index\": 2,\n",
      "          \"title\": \"Discriminación Simple\",\n",
      "          \"description\": \"Explicación de la discriminación simple, su importancia en el cálculo diferencial, y cómo se utiliza en la diferenciación y la integración.  Se examinan las diferentes formas de discriminación y sus propiedades.\"\n",
      "        },\n",
      "        {\n",
      "          \"index\": 3,\n",
      "          \"title\": \"Discriminación Media\",\n",
      "          \"description\": \"Explicación de la discriminación media, su importancia en el cálculo diferencial, y cómo se utiliza en la diferenciación y la integración.  Se examinan las diferentes formas de discriminación y sus propiedades.\"\n",
      "        }\n",
      "      ]\n",
      "    },\n",
      "    {\n",
      "      \"index\": 3,\n",
      "      \"title\": \"Diferenciación Continua\",\n",
      "      \"description\": \"Se explora la diferenciación continua, su importancia en el cálculo diferencial, y cómo se utiliza en la diferenciación y la integración.  Se examinan las diferentes formas de diferenciación continua y sus propiedades.\",\n",
      "      \"subtopics\": [\n",
      "        {\n",
      "          \"index\": 3,\n",
      "          \"title\": \"Diferenciación Continua Simple\",\n",
      "          \"description\": \"Explicación de la diferenciación continua simple, su importancia en el cálculo diferencial, y cómo se utiliza en la diferenciación y la integración.  Se examinan las diferentes formas de diferenciación continua y sus propiedades.\"\n",
      "        },\n",
      "        {\n",
      "          \"index\": 4,\n",
      "          \"title\": \"Diferenciación Continua Media\",\n",
      "          \"description\": \"Explicación de la diferenciación continua media, su importancia en el cálculo diferencial, y cómo se utiliza en la diferenciación y la integración.  Se examinan las diferentes formas de diferenciación continua y sus propiedades.\"\n",
      "        }\n",
      "      ]\n",
      "    }\n",
      "  ]\n",
      "}\n"
     ]
    }
   ],
   "source": [
    "# La respuesta ya vendrá en formato JSON validado por el esquema\n",
    "response_text = model_response['response']\n",
    "print(\"Respuesta:\")\n",
    "print(json.dumps(json.loads(response_text), indent=2, ensure_ascii=False))\n"
   ]
  }
 ],
 "metadata": {
  "kernelspec": {
   "display_name": ".conda",
   "language": "python",
   "name": "python3"
  },
  "language_info": {
   "codemirror_mode": {
    "name": "ipython",
    "version": 3
   },
   "file_extension": ".py",
   "mimetype": "text/x-python",
   "name": "python",
   "nbconvert_exporter": "python",
   "pygments_lexer": "ipython3",
   "version": "3.10.18"
  }
 },
 "nbformat": 4,
 "nbformat_minor": 5
}
